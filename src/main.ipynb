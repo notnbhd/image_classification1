{
 "cells": [
  {
   "cell_type": "code",
   "execution_count": 19,
   "metadata": {},
   "outputs": [],
   "source": [
    "import numpy as py\n",
    "from PIL import Image\n",
    "\n",
    "import torch\n",
    "import torch.nn as nn\n",
    "import torch.nn.functional as F\n",
    "import torch.optim as optim\n",
    "\n",
    "import torchvision\n",
    "import torchvision.transforms as transforms"
   ]
  },
  {
   "cell_type": "code",
   "execution_count": 20,
   "metadata": {},
   "outputs": [],
   "source": [
    "transform = transforms.Compose([\n",
    "    transforms.ToTensor(),\n",
    "    transforms.Normalize((0.5, 0.5, 0.5), (0.5, 0.5, 0.5))\n",
    "])"
   ]
  },
  {
   "cell_type": "code",
   "execution_count": 21,
   "metadata": {},
   "outputs": [],
   "source": [
    "train_data = torchvision.datasets.CIFAR10(root='./data', train=True, transform=transform, download=True)\n",
    "test_data = torchvision.datasets.CIFAR10(root='./data', train=False, transform=transform, download=True)\n",
    "\n",
    "train_loader = torch.utils.data.DataLoader(train_data, batch_size=32, shuffle=True, num_workers=2)\n",
    "test_loader = torch.utils.data.DataLoader(test_data, batch_size=32, shuffle=True, num_workers=2)\n"
   ]
  },
  {
   "cell_type": "code",
   "execution_count": 22,
   "metadata": {},
   "outputs": [],
   "source": [
    "image, label = train_data[0]"
   ]
  },
  {
   "cell_type": "code",
   "execution_count": 23,
   "metadata": {},
   "outputs": [
    {
     "data": {
      "text/plain": [
       "torch.Size([3, 32, 32])"
      ]
     },
     "execution_count": 23,
     "metadata": {},
     "output_type": "execute_result"
    }
   ],
   "source": [
    "image.size()"
   ]
  },
  {
   "cell_type": "code",
   "execution_count": 24,
   "metadata": {},
   "outputs": [],
   "source": [
    "class_names = ['plane', 'car', 'bird', 'cat', 'deer', 'dog', 'frog', 'horse', 'ship', 'truck']"
   ]
  },
  {
   "cell_type": "code",
   "execution_count": 25,
   "metadata": {},
   "outputs": [],
   "source": [
    "class NeuralNet(nn.Module):\n",
    "    def __init__(self):\n",
    "        super().__init__()\n",
    "\n",
    "        self.conv1 = nn.Conv2d(3, 12, 5) # 32 - 5/1 = 27 + 1 = 28 -> (12, 28, 28)\n",
    "        self.pool = nn.MaxPool2d(2, 2) # (12, 14, 14)\n",
    "        self.conv2 = nn.Conv2d(12, 24, 5) # 14 - 5 / 1 + 1 = 10 -> (24, 10, 10) -> (24, 5, 5) -> Flatten (24 * 5 *5)\n",
    "        self.fc1 = nn.Linear(24 * 5 * 5, 120)\n",
    "        self.fc2 = nn.Linear(120, 84)\n",
    "        self.fc3 = nn.Linear(84, 10) # output must be 10\n",
    "\n",
    "    def forward(self, x):\n",
    "        x = self.pool(F.relu(self.conv1(x)))\n",
    "        x = self.pool(F.relu(self.conv2(x)))\n",
    "        x = torch.flatten(x, 1)\n",
    "        x = F.relu(self.fc1(x))\n",
    "        x = F.relu(self.fc2(x))\n",
    "        x = self.fc3(x)\n",
    "        return x"
   ]
  },
  {
   "cell_type": "code",
   "execution_count": 26,
   "metadata": {},
   "outputs": [],
   "source": [
    "net = NeuralNet()\n",
    "loss_function = nn.CrossEntropyLoss()\n",
    "optimizer = optim.SGD(net.parameters(), lr=0.001, momentum=0.9)"
   ]
  },
  {
   "cell_type": "code",
   "execution_count": 27,
   "metadata": {},
   "outputs": [
    {
     "name": "stdout",
     "output_type": "stream",
     "text": [
      "training epoch 0...\n",
      "loss: 2.2106\n",
      "training epoch 1...\n",
      "loss: 1.7635\n",
      "training epoch 2...\n",
      "loss: 1.5178\n",
      "training epoch 3...\n",
      "loss: 1.3984\n",
      "training epoch 4...\n",
      "loss: 1.2959\n",
      "training epoch 5...\n",
      "loss: 1.1967\n",
      "training epoch 6...\n",
      "loss: 1.1193\n",
      "training epoch 7...\n",
      "loss: 1.0606\n",
      "training epoch 8...\n",
      "loss: 1.0086\n",
      "training epoch 9...\n",
      "loss: 0.9640\n",
      "training epoch 10...\n",
      "loss: 0.9220\n",
      "training epoch 11...\n",
      "loss: 0.8858\n",
      "training epoch 12...\n",
      "loss: 0.8554\n",
      "training epoch 13...\n",
      "loss: 0.8224\n",
      "training epoch 14...\n",
      "loss: 0.7943\n",
      "training epoch 15...\n",
      "loss: 0.7673\n",
      "training epoch 16...\n",
      "loss: 0.7406\n",
      "training epoch 17...\n",
      "loss: 0.7185\n",
      "training epoch 18...\n",
      "loss: 0.6888\n",
      "training epoch 19...\n",
      "loss: 0.6677\n",
      "training epoch 20...\n",
      "loss: 0.6447\n",
      "training epoch 21...\n",
      "loss: 0.6237\n",
      "training epoch 22...\n",
      "loss: 0.6025\n",
      "training epoch 23...\n",
      "loss: 0.5830\n",
      "training epoch 24...\n",
      "loss: 0.5598\n",
      "training epoch 25...\n",
      "loss: 0.5372\n",
      "training epoch 26...\n",
      "loss: 0.5193\n",
      "training epoch 27...\n",
      "loss: 0.4979\n",
      "training epoch 28...\n",
      "loss: 0.4836\n",
      "training epoch 29...\n",
      "loss: 0.4621\n",
      "training epoch 30...\n",
      "loss: 0.4491\n",
      "training epoch 31...\n",
      "loss: 0.4232\n",
      "training epoch 32...\n",
      "loss: 0.4052\n",
      "training epoch 33...\n",
      "loss: 0.3954\n",
      "training epoch 34...\n",
      "loss: 0.3751\n",
      "training epoch 35...\n",
      "loss: 0.3608\n",
      "training epoch 36...\n",
      "loss: 0.3427\n",
      "training epoch 37...\n",
      "loss: 0.3330\n",
      "training epoch 38...\n",
      "loss: 0.3107\n",
      "training epoch 39...\n",
      "loss: 0.3023\n",
      "training epoch 40...\n",
      "loss: 0.2888\n",
      "training epoch 41...\n",
      "loss: 0.2752\n",
      "training epoch 42...\n",
      "loss: 0.2611\n",
      "training epoch 43...\n",
      "loss: 0.2458\n",
      "training epoch 44...\n",
      "loss: 0.2383\n",
      "training epoch 45...\n",
      "loss: 0.2206\n",
      "training epoch 46...\n",
      "loss: 0.2098\n",
      "training epoch 47...\n",
      "loss: 0.2039\n",
      "training epoch 48...\n",
      "loss: 0.1930\n",
      "training epoch 49...\n",
      "loss: 0.1918\n"
     ]
    }
   ],
   "source": [
    "for epoch in range(50):\n",
    "    print(f'training epoch {epoch}...')\n",
    "\n",
    "    running_loss = 0.0\n",
    "\n",
    "    for i, data in enumerate(train_loader):\n",
    "        inputs, labels = data\n",
    "\n",
    "        optimizer.zero_grad()\n",
    "\n",
    "        outputs = net(inputs)\n",
    "\n",
    "        loss = loss_function(outputs, labels)\n",
    "        loss.backward()\n",
    "        optimizer.step()\n",
    "\n",
    "        running_loss += loss.item()\n",
    "\n",
    "    print(f'loss: {running_loss / len(train_loader):.4f}')"
   ]
  },
  {
   "cell_type": "code",
   "execution_count": 34,
   "metadata": {},
   "outputs": [],
   "source": [
    "torch.save(net.state_dict(), 'trained_net.pth')"
   ]
  },
  {
   "cell_type": "code",
   "execution_count": 35,
   "metadata": {},
   "outputs": [
    {
     "data": {
      "text/plain": [
       "<All keys matched successfully>"
      ]
     },
     "execution_count": 35,
     "metadata": {},
     "output_type": "execute_result"
    }
   ],
   "source": [
    "net = NeuralNet()\n",
    "net.load_state_dict(torch.load('trained_net.pth'))"
   ]
  },
  {
   "cell_type": "code",
   "execution_count": 36,
   "metadata": {},
   "outputs": [
    {
     "name": "stdout",
     "output_type": "stream",
     "text": [
      "Accuracy: 66.02%\n"
     ]
    }
   ],
   "source": [
    "correct = 0\n",
    "total = 0\n",
    "\n",
    "net.eval()\n",
    "\n",
    "with torch.no_grad():\n",
    "    for data in test_loader:\n",
    "        images, labels = data\n",
    "        outputs = net(images)\n",
    "        _, pred = torch.max(outputs, 1)\n",
    "        total += labels.size(0)\n",
    "        correct += (pred == labels).sum().item()\n",
    "\n",
    "accuracy = 100 * correct / total\n",
    "\n",
    "print(f'Accuracy: {accuracy}%')"
   ]
  },
  {
   "cell_type": "code",
   "execution_count": 37,
   "metadata": {},
   "outputs": [
    {
     "name": "stdout",
     "output_type": "stream",
     "text": [
      "Prediction: dog\n",
      "Prediction: car\n",
      "Prediction: cat\n"
     ]
    }
   ],
   "source": [
    "base_transform = transforms.Compose([\n",
    "    transforms.Resize((32, 32)),\n",
    "    transforms.ToTensor(),\n",
    "    transforms.Normalize((0.5, 0.5, 0.5), (0.5, 0.5, 0.5))\n",
    "])\n",
    "\n",
    "def load_image(img_path):\n",
    "    img = Image.open(img_path)\n",
    "    img = base_transform(img)\n",
    "    img = img.unsqueeze(0)\n",
    "    return img\n",
    "\n",
    "img_path = ['Dog_Breeds.jpg', 'images.jpg', 'Cat03.jpg']\n",
    "images = [load_image(image) for image in img_path]\n",
    "\n",
    "net.eval()\n",
    "with torch.no_grad():\n",
    "    for img in images:\n",
    "        output = net(img)\n",
    "        _, pred = torch.max(output, 1)\n",
    "        print(f'Prediction: {class_names[pred.item()]}')"
   ]
  }
 ],
 "metadata": {
  "kernelspec": {
   "display_name": "base",
   "language": "python",
   "name": "python3"
  },
  "language_info": {
   "codemirror_mode": {
    "name": "ipython",
    "version": 3
   },
   "file_extension": ".py",
   "mimetype": "text/x-python",
   "name": "python",
   "nbconvert_exporter": "python",
   "pygments_lexer": "ipython3",
   "version": "3.12.7"
  }
 },
 "nbformat": 4,
 "nbformat_minor": 2
}
